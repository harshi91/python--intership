{
 "cells": [
  {
   "cell_type": "code",
   "execution_count": null,
   "id": "52df0ddf-a836-415d-872d-b3094b6497eb",
   "metadata": {},
   "outputs": [
    {
     "name": "stdout",
     "output_type": "stream",
     "text": [
      "\n",
      "====== TO-DO LIST MENU ======\n",
      "1. View Tasks\n",
      "2. Add Task\n",
      "3. Remove Task\n",
      "4. Exit\n",
      "=============================\n"
     ]
    },
    {
     "name": "stdin",
     "output_type": "stream",
     "text": [
      "Enter your choice (1-4):  2\n",
      "Enter new task:  home\n"
     ]
    },
    {
     "name": "stdout",
     "output_type": "stream",
     "text": [
      "Task added successfully!\n",
      "\n",
      "====== TO-DO LIST MENU ======\n",
      "1. View Tasks\n",
      "2. Add Task\n",
      "3. Remove Task\n",
      "4. Exit\n",
      "=============================\n"
     ]
    },
    {
     "name": "stdin",
     "output_type": "stream",
     "text": [
      "Enter your choice (1-4):  2\n",
      "Enter new task:  work\n"
     ]
    },
    {
     "name": "stdout",
     "output_type": "stream",
     "text": [
      "Task added successfully!\n",
      "\n",
      "====== TO-DO LIST MENU ======\n",
      "1. View Tasks\n",
      "2. Add Task\n",
      "3. Remove Task\n",
      "4. Exit\n",
      "=============================\n"
     ]
    },
    {
     "name": "stdin",
     "output_type": "stream",
     "text": [
      "Enter your choice (1-4):  game\n"
     ]
    },
    {
     "name": "stdout",
     "output_type": "stream",
     "text": [
      "Invalid choice! Try again.\n",
      "\n",
      "====== TO-DO LIST MENU ======\n",
      "1. View Tasks\n",
      "2. Add Task\n",
      "3. Remove Task\n",
      "4. Exit\n",
      "=============================\n"
     ]
    },
    {
     "name": "stdin",
     "output_type": "stream",
     "text": [
      "Enter your choice (1-4):  1\n"
     ]
    },
    {
     "name": "stdout",
     "output_type": "stream",
     "text": [
      "\n",
      "Your Tasks:\n",
      "1. game\n",
      "2. work\n",
      "3. home\n",
      "4. home\n",
      "5. work\n",
      "\n",
      "====== TO-DO LIST MENU ======\n",
      "1. View Tasks\n",
      "2. Add Task\n",
      "3. Remove Task\n",
      "4. Exit\n",
      "=============================\n"
     ]
    },
    {
     "name": "stdin",
     "output_type": "stream",
     "text": [
      "Enter your choice (1-4):  3\n"
     ]
    },
    {
     "name": "stdout",
     "output_type": "stream",
     "text": [
      "\n",
      "Your Tasks:\n",
      "1. game\n",
      "2. work\n",
      "3. home\n",
      "4. home\n",
      "5. work\n"
     ]
    }
   ],
   "source": [
    "# todo.py\n",
    "def show_menu():\n",
    "    print(\"\\n====== TO-DO LIST MENU ======\")\n",
    "    print(\"1. View Tasks\")\n",
    "    print(\"2. Add Task\")\n",
    "    print(\"3. Remove Task\")\n",
    "    print(\"4. Exit\")\n",
    "    print(\"=============================\")\n",
    "\n",
    "def load_tasks():\n",
    "    try:\n",
    "        with open(\"tasks.txt\", \"r\") as file:\n",
    "            tasks = [line.strip() for line in file.readlines()]\n",
    "    except FileNotFoundError:\n",
    "        tasks = []\n",
    "    return tasks\n",
    "\n",
    "def save_tasks(tasks):\n",
    "    with open(\"tasks.txt\", \"w\") as file:\n",
    "        for task in tasks:\n",
    "            file.write(task + \"\\n\")\n",
    "\n",
    "def main():\n",
    "    tasks = load_tasks()\n",
    "\n",
    "    while True:\n",
    "        show_menu()\n",
    "        choice = input(\"Enter your choice (1-4): \")\n",
    "\n",
    "        if choice == \"1\":\n",
    "            print(\"\\nYour Tasks:\")\n",
    "            if not tasks:\n",
    "                print(\"No tasks available.\")\n",
    "            else:\n",
    "                for i, task in enumerate(tasks, start=1):\n",
    "                    print(f\"{i}. {task}\")\n",
    "\n",
    "        elif choice == \"2\":\n",
    "            new_task = input(\"Enter new task: \")\n",
    "            tasks.append(new_task)\n",
    "            save_tasks(tasks)\n",
    "            print(\"Task added successfully!\")\n",
    "\n",
    "        elif choice == \"3\":\n",
    "            print(\"\\nYour Tasks:\")\n",
    "            for i, task in enumerate(tasks, start=1):\n",
    "                print(f\"{i}. {task}\")\n",
    "            index = int(input(\"Enter task number to remove: \"))\n",
    "            if 1 <= index <= len(tasks):\n",
    "                removed = tasks.pop(index - 1)\n",
    "                save_tasks(tasks)\n",
    "                print(f\"Removed: {removed}\")\n",
    "            else:\n",
    "                print(\"Invalid task number!\")\n",
    "\n",
    "        elif choice == \"4\":\n",
    "            print(\"Exiting To-Do List... Goodbye!\")\n",
    "            break\n",
    "\n",
    "        else:\n",
    "            print(\"Invalid choice! Try again.\")\n",
    "\n",
    "if __name__ == \"__main__\":\n",
    "    main()\n"
   ]
  },
  {
   "cell_type": "code",
   "execution_count": null,
   "id": "15a45ff1-1295-4be7-9d71-189e5fe057f1",
   "metadata": {},
   "outputs": [],
   "source": []
  }
 ],
 "metadata": {
  "kernelspec": {
   "display_name": "Python [conda env:base] *",
   "language": "python",
   "name": "conda-base-py"
  },
  "language_info": {
   "codemirror_mode": {
    "name": "ipython",
    "version": 3
   },
   "file_extension": ".py",
   "mimetype": "text/x-python",
   "name": "python",
   "nbconvert_exporter": "python",
   "pygments_lexer": "ipython3",
   "version": "3.13.5"
  }
 },
 "nbformat": 4,
 "nbformat_minor": 5
}
