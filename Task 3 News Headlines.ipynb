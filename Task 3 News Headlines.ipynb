{
 "cells": [
  {
   "cell_type": "code",
   "execution_count": 1,
   "id": "95079f1f-d303-4e66-a2f7-fbafdaf0931f",
   "metadata": {},
   "outputs": [],
   "source": [
    "import requests\n",
    "from bs4 import BeautifulSoup\n"
   ]
  },
  {
   "cell_type": "code",
   "execution_count": 2,
   "id": "3ed27fdc-1a31-4367-acd3-8251c1a2e6f7",
   "metadata": {},
   "outputs": [],
   "source": [
    "def fetch_headlines():\n",
    "    url = \"https://www.bbc.com/news\"\n",
    "    response = requests.get(url)\n",
    "    response.raise_for_status()\n",
    "\n",
    "    soup = BeautifulSoup(response.text, \"html.parser\")\n",
    "    headlines = soup.find_all(\"h2\")\n",
    "\n",
    "    cleaned_headlines = [h.get_text(strip=True) for h in headlines if h.get_text(strip=True)]\n",
    "    \n",
    "    with open(\"headlines.txt\", \"w\", encoding=\"utf-8\") as f:\n",
    "        for line in cleaned_headlines:\n",
    "            f.write(line + \"\\n\")\n",
    "\n",
    "    print(f\"✅ {len(cleaned_headlines)} headlines saved to 'headlines.txt'\")\n"
   ]
  },
  {
   "cell_type": "code",
   "execution_count": 3,
   "id": "018eb632-bbcb-4573-8015-d0bd18b59446",
   "metadata": {},
   "outputs": [
    {
     "name": "stdout",
     "output_type": "stream",
     "text": [
      "✅ 60 headlines saved to 'headlines.txt'\n"
     ]
    }
   ],
   "source": [
    "fetch_headlines()\n"
   ]
  },
  {
   "cell_type": "code",
   "execution_count": null,
   "id": "8d057ef2-aa7f-4331-b228-d631b38c5b73",
   "metadata": {},
   "outputs": [],
   "source": []
  }
 ],
 "metadata": {
  "kernelspec": {
   "display_name": "Python [conda env:base] *",
   "language": "python",
   "name": "conda-base-py"
  },
  "language_info": {
   "codemirror_mode": {
    "name": "ipython",
    "version": 3
   },
   "file_extension": ".py",
   "mimetype": "text/x-python",
   "name": "python",
   "nbconvert_exporter": "python",
   "pygments_lexer": "ipython3",
   "version": "3.13.5"
  }
 },
 "nbformat": 4,
 "nbformat_minor": 5
}
